{
  "nbformat": 4,
  "nbformat_minor": 0,
  "metadata": {
    "colab": {
      "provenance": [],
      "name": "web-lab1.ipynb",
      "authorship_tag": "ABX9TyNpt9FTp5C0t4rmZQDvIcJl",
      "include_colab_link": true
    },
    "kernelspec": {
      "name": "python3",
      "display_name": "Python 3"
    },
    "language_info": {
      "name": "python"
    }
  },
  "cells": [
    {
      "cell_type": "markdown",
      "metadata": {
        "id": "view-in-github",
        "colab_type": "text"
      },
      "source": [
        "<a href=\"https://colab.research.google.com/github/Solo7602/web/blob/main/web_lab1.ipynb\" target=\"_parent\"><img src=\"https://colab.research.google.com/assets/colab-badge.svg\" alt=\"Open In Colab\"/></a>"
      ]
    },
    {
      "cell_type": "code",
      "execution_count": null,
      "metadata": {
        "colab": {
          "base_uri": "https://localhost:8080/"
        },
        "id": "GTh8W12P917-",
        "outputId": "7042ed51-19d3-4310-c8a4-91264b43c388"
      },
      "outputs": [
        {
          "output_type": "stream",
          "name": "stdout",
          "text": [
            "Requirement already satisfied: requests in /usr/local/lib/python3.12/dist-packages (2.32.4)\n",
            "Requirement already satisfied: pandas in /usr/local/lib/python3.12/dist-packages (2.2.2)\n",
            "Requirement already satisfied: numpy in /usr/local/lib/python3.12/dist-packages (2.0.2)\n",
            "Requirement already satisfied: matplotlib in /usr/local/lib/python3.12/dist-packages (3.10.0)\n",
            "Requirement already satisfied: folium in /usr/local/lib/python3.12/dist-packages (0.20.0)\n",
            "Requirement already satisfied: tqdm in /usr/local/lib/python3.12/dist-packages (4.67.1)\n",
            "Requirement already satisfied: python-dateutil in /usr/local/lib/python3.12/dist-packages (2.9.0.post0)\n",
            "Requirement already satisfied: charset_normalizer<4,>=2 in /usr/local/lib/python3.12/dist-packages (from requests) (3.4.3)\n",
            "Requirement already satisfied: idna<4,>=2.5 in /usr/local/lib/python3.12/dist-packages (from requests) (3.10)\n",
            "Requirement already satisfied: urllib3<3,>=1.21.1 in /usr/local/lib/python3.12/dist-packages (from requests) (2.5.0)\n",
            "Requirement already satisfied: certifi>=2017.4.17 in /usr/local/lib/python3.12/dist-packages (from requests) (2025.8.3)\n",
            "Requirement already satisfied: pytz>=2020.1 in /usr/local/lib/python3.12/dist-packages (from pandas) (2025.2)\n",
            "Requirement already satisfied: tzdata>=2022.7 in /usr/local/lib/python3.12/dist-packages (from pandas) (2025.2)\n",
            "Requirement already satisfied: contourpy>=1.0.1 in /usr/local/lib/python3.12/dist-packages (from matplotlib) (1.3.3)\n",
            "Requirement already satisfied: cycler>=0.10 in /usr/local/lib/python3.12/dist-packages (from matplotlib) (0.12.1)\n",
            "Requirement already satisfied: fonttools>=4.22.0 in /usr/local/lib/python3.12/dist-packages (from matplotlib) (4.60.0)\n",
            "Requirement already satisfied: kiwisolver>=1.3.1 in /usr/local/lib/python3.12/dist-packages (from matplotlib) (1.4.9)\n",
            "Requirement already satisfied: packaging>=20.0 in /usr/local/lib/python3.12/dist-packages (from matplotlib) (25.0)\n",
            "Requirement already satisfied: pillow>=8 in /usr/local/lib/python3.12/dist-packages (from matplotlib) (11.3.0)\n",
            "Requirement already satisfied: pyparsing>=2.3.1 in /usr/local/lib/python3.12/dist-packages (from matplotlib) (3.2.4)\n",
            "Requirement already satisfied: branca>=0.6.0 in /usr/local/lib/python3.12/dist-packages (from folium) (0.8.1)\n",
            "Requirement already satisfied: jinja2>=2.9 in /usr/local/lib/python3.12/dist-packages (from folium) (3.1.6)\n",
            "Requirement already satisfied: xyzservices in /usr/local/lib/python3.12/dist-packages (from folium) (2025.4.0)\n",
            "Requirement already satisfied: six>=1.5 in /usr/local/lib/python3.12/dist-packages (from python-dateutil) (1.17.0)\n",
            "Requirement already satisfied: MarkupSafe>=2.0 in /usr/local/lib/python3.12/dist-packages (from jinja2>=2.9->folium) (3.0.2)\n"
          ]
        }
      ],
      "source": [
        "pip install requests pandas numpy matplotlib folium tqdm python-dateutil"
      ]
    },
    {
      "cell_type": "code",
      "source": [
        "import requests\n",
        "import time\n",
        "from concurrent.futures import ThreadPoolExecutor, as_completed\n",
        "from collections import Counter, defaultdict\n",
        "import pandas as pd\n",
        "import numpy as np\n",
        "import matplotlib.pyplot as plt\n",
        "import folium\n",
        "from tqdm import tqdm\n",
        "from dateutil import parser as date_parser\n",
        "import re\n",
        "\n",
        "# --------------------\n",
        "\n",
        "SEARCH_TERMS = [\"Системный аналитик\", \"Аналитик\", \"System analytist\"]\n",
        "CITY_NAME = \"Краснодар\"\n",
        "PER_PAGE = 100\n",
        "MAX_VACANCIES_TO_FETCH = None\n",
        "THREADS = 10\n",
        "USER_AGENT = \"hh-data-collector/1.0 (contact: solo7602@mail.ru)\"\n",
        "# --------------------\n",
        "\n",
        "HEADERS = {\"User-Agent\": USER_AGENT}\n",
        "\n",
        "def get_area_id_by_city(city_name: str):\n",
        "    url = \"https://api.hh.ru/areas\"\n",
        "    resp = requests.get(url, headers=HEADERS, timeout=30)\n",
        "    resp.raise_for_status()\n",
        "    areas = resp.json()\n",
        "    def find_in_list(lst):\n",
        "        for item in lst:\n",
        "            if item[\"name\"].lower() == city_name.lower():\n",
        "                return item[\"id\"]\n",
        "            sub = item.get(\"areas\") or item.get(\"items\") or item.get(\"cities\") or []\n",
        "            found = find_in_list(sub)\n",
        "            if found:\n",
        "                return found\n",
        "        return None\n",
        "\n",
        "    found = find_in_list(areas)\n",
        "    if not found:\n",
        "        raise ValueError(f\"Не найден area id для города '{city_name}'. Проверьте написание.\")\n",
        "    return int(found)\n",
        "\n",
        "def build_search_text(terms):\n",
        "    parts = []\n",
        "    for t in terms:\n",
        "        if \" \" in t:\n",
        "            parts.append(f\"\\\"{t}\\\"\")\n",
        "        else:\n",
        "            parts.append(t)\n",
        "    return \" OR \".join(parts)\n",
        "\n",
        "def fetch_vacancies(search_text, area_id, per_page=100, max_to_fetch=None):\n",
        "    url = \"https://api.hh.ru/vacancies\"\n",
        "    page = 0\n",
        "    all_items = []\n",
        "    while True:\n",
        "        params = {\n",
        "            \"text\": search_text,\n",
        "            \"area\": area_id,\n",
        "            \"per_page\": per_page,\n",
        "            \"page\": page\n",
        "        }\n",
        "        resp = requests.get(url, headers=HEADERS, params=params, timeout=30)\n",
        "        resp.raise_for_status()\n",
        "        data = resp.json()\n",
        "        items = data.get(\"items\", [])\n",
        "        all_items.extend(items)\n",
        "        total_pages = data.get(\"pages\", 0)\n",
        "        print(f\"Fetched page {page+1}/{total_pages}  items on page: {len(items)}   total so far: {len(all_items)}\")\n",
        "        page += 1\n",
        "        if page >= total_pages:\n",
        "            break\n",
        "        if max_to_fetch and len(all_items) >= max_to_fetch:\n",
        "            all_items = all_items[:max_to_fetch]\n",
        "            break\n",
        "        time.sleep(0.2)\n",
        "    return all_items\n",
        "\n",
        "def unique_vacancies_by_id(items):\n",
        "    unique = {}\n",
        "    for it in items:\n",
        "        unique[it[\"id\"]] = it\n",
        "    return list(unique.values())\n",
        "\n",
        "def fetch_vacancy_detail(vac_id):\n",
        "    url = f\"https://api.hh.ru/vacancies/{vac_id}\"\n",
        "    resp = requests.get(url, headers=HEADERS, timeout=30)\n",
        "    if resp.status_code == 200:\n",
        "        return resp.json()\n",
        "    else:\n",
        "        print(f\"Warning: vacancy {vac_id} returned status {resp.status_code}\")\n",
        "        return None\n",
        "\n",
        "def fetch_all_details(vacancy_meta_list, threads=10):\n",
        "    details = []\n",
        "    ids = [v[\"id\"] for v in vacancy_meta_list]\n",
        "    with ThreadPoolExecutor(max_workers=threads) as ex:\n",
        "        futures = {ex.submit(fetch_vacancy_detail, vid): vid for vid in ids}\n",
        "        for fut in tqdm(as_completed(futures), total=len(futures), desc=\"Fetching details\"):\n",
        "            time.sleep(0.5)\n",
        "            vid = futures[fut]\n",
        "            try:\n",
        "                res = fut.result()\n",
        "                if res:\n",
        "                    details.append(res)\n",
        "            except Exception as e:\n",
        "                print(f\"Error fetching {vid}: {e}\")\n",
        "    return details\n",
        "\n",
        "NON_ALPHA = re.compile(r\"[^A-Za-zА-Яа-я0-9\\+\\#]+\")\n",
        "\n",
        "def extract_skills_from_vac(vac):\n",
        "    return [k.get(\"name\", \"\").strip().lower() for k in vac.get(\"key_skills\", []) if k.get(\"name\")]\n",
        "\n",
        "def compute_salary_value(salary_obj):\n",
        "    if not salary_obj:\n",
        "        return None\n",
        "    val_from = salary_obj.get(\"from\")\n",
        "    val_to = salary_obj.get(\"to\")\n",
        "    currency = salary_obj.get(\"currency\")\n",
        "    if val_from and val_to:\n",
        "        return (val_from + val_to) / 2\n",
        "    if val_from:\n",
        "        return val_from * 1.0\n",
        "    if val_to:\n",
        "        return val_to * 1.0\n",
        "    return None\n",
        "\n",
        "# --------------------\n",
        "def main():\n",
        "    print(\"1) Определение area_id для города:\", CITY_NAME)\n",
        "    try:\n",
        "        area_id = get_area_id_by_city(CITY_NAME)\n",
        "        print(\"Found area_id:\", area_id)\n",
        "    except Exception as e:\n",
        "        print(\"Ошибка при определении area_id:\", e)\n",
        "        return\n",
        "\n",
        "    print(\"\\n2) Сбор вакансий (metadata) по поисковым терминам:\", SEARCH_TERMS)\n",
        "    search_text = build_search_text(SEARCH_TERMS)\n",
        "    print(\"Search text:\", search_text)\n",
        "    meta_items = fetch_vacancies(search_text, area_id, per_page=PER_PAGE, max_to_fetch=MAX_VACANCIES_TO_FETCH)\n",
        "    print(f\"Всего мета-записей получено: {len(meta_items)}\")\n",
        "\n",
        "    print(\"\\n3) Удаление дубликатов по ID\")\n",
        "    unique_meta = unique_vacancies_by_id(meta_items)\n",
        "    print(f\"После удаления дубликатов: {len(unique_meta)}\")\n",
        "\n",
        "    print(\"\\n4) Получение детальных описаний вакансий (detail)\")\n",
        "    details = fetch_all_details(unique_meta, threads=THREADS)\n",
        "    print(f\"Получено детальных описаний: {len(details)}\")\n",
        "\n",
        "    print(\"\\n5) Формирование DataFrame для анализа\")\n",
        "    rows = []\n",
        "    for vac in details:\n",
        "        vid = vac.get(\"id\")\n",
        "        name = vac.get(\"name\")\n",
        "        employer = vac.get(\"employer\", {}).get(\"name\")\n",
        "        area = vac.get(\"area\", {}).get(\"name\")\n",
        "        published_at = vac.get(\"published_at\")\n",
        "        try:\n",
        "            published_at = date_parser.parse(published_at) if published_at else None\n",
        "        except:\n",
        "            published_at = None\n",
        "        salary_val = compute_salary_value(vac.get(\"salary\"))\n",
        "        salary_currency = vac.get(\"salary\", {}).get(\"currency\") if vac.get(\"salary\") else None\n",
        "        schedule = vac.get(\"schedule\", {}).get(\"name\") if vac.get(\"schedule\") else None\n",
        "        employment = vac.get(\"employment\", {}).get(\"name\") if vac.get(\"employment\") else None\n",
        "        address = vac.get(\"address\")  # might contain lat, lng, raw, building, metro, etc.\n",
        "        has_coords = bool(address and address.get(\"lat\") and address.get(\"lng\"))\n",
        "        district = None\n",
        "        if address:\n",
        "            raw = address.get(\"raw\") or \"\"\n",
        "            district = address.get(\"district\") or address.get(\"subway\") or None\n",
        "            if not district:\n",
        "                m = re.search(r'([А-ЯЁа-яё\\-\\s]+?район[А-ЯЁа-яё\\-\\s]*)', raw, flags=re.IGNORECASE)\n",
        "                if m:\n",
        "                    district = m.group(1).strip()\n",
        "        key_skills = [k.get(\"name\") for k in vac.get(\"key_skills\", [])]\n",
        "        rows.append({\n",
        "            \"id\": vid,\n",
        "            \"name\": name,\n",
        "            \"employer\": employer,\n",
        "            \"area\": area,\n",
        "            \"published_at\": published_at,\n",
        "            \"salary_value\": salary_val,\n",
        "            \"salary_currency\": salary_currency,\n",
        "            \"schedule\": schedule,\n",
        "            \"employment\": employment,\n",
        "            \"address\": address,\n",
        "            \"has_coords\": has_coords,\n",
        "            \"district\": district,\n",
        "            \"key_skills\": key_skills,\n",
        "            \"raw\": vac\n",
        "        })\n",
        "\n",
        "    df = pd.DataFrame(rows)\n",
        "    print(\"DataFrame shape:\", df.shape)\n",
        "\n",
        "    df.to_csv(\"hh_vacancies_details.csv\", index=False)\n",
        "    print(\"Saved hh_vacancies_details.csv\")\n",
        "\n",
        "    # --------------------\n",
        "    # Статистика вакансий: Вопрос 1\n",
        "    total_available = len(df)\n",
        "    print(\"\\nВопрос 1: Сколько сейчас доступно вакансий по запросу?\")\n",
        "    print(\"Ответ:\", total_available, \"вакансий (собрано и сохранено в CSV)\")\n",
        "\n",
        "    # Вопрос 2: какие навыки чаще всего встречаются\n",
        "    print(\"\\nВопрос 2: Часто запрашиваемые навыки:\")\n",
        "    skill_counter = Counter()\n",
        "    for vac in details:\n",
        "        skills = extract_skills_from_vac(vac)\n",
        "        for s in skills:\n",
        "            skill_counter[s] += 1\n",
        "\n",
        "    most_common_skills = skill_counter.most_common(50)\n",
        "    for i, (skill, cnt) in enumerate(most_common_skills[:20], start=1):\n",
        "        print(f\"{i}. {skill} — {cnt}\")\n",
        "\n",
        "    pd.DataFrame(most_common_skills, columns=[\"skill\", \"count\"]).to_csv(\"hh_skills_frequency.csv\", index=False)\n",
        "    print(\"Saved hh_skills_frequency.csv\")\n",
        "\n",
        "    # Вопрос 3: распределение зарплат — гистограмма\n",
        "    print(\"\\nВопрос 3: Строим гистограмму зарплат (грубая оценка по полю salary)\")\n",
        "    salary_series = df[\"salary_value\"].dropna()\n",
        "    if len(salary_series) == 0:\n",
        "        print(\"Нет числовых данных по зарплатам в выборке.\")\n",
        "    else:\n",
        "        plt.figure(figsize=(10,6))\n",
        "        plt.hist(salary_series, bins=20)\n",
        "        plt.xlabel(\"Значение зарплаты (руб.)\")\n",
        "        plt.ylabel(\"Количество вакансий\")\n",
        "        plt.title(f\"Распределение зарплат по запросу '{SEARCH_TERMS[0]}' в '{CITY_NAME}' (N={len(salary_series)})\")\n",
        "        plt.grid(True, linestyle='--', alpha=0.5)\n",
        "        plt.tight_layout()\n",
        "        plt.savefig(\"salary_histogram.png\")\n",
        "        plt.show()\n",
        "        print(\"Saved salary_histogram.png\")\n",
        "\n",
        "    print(\"\\nВопрос 4: Преимущественный формат работы (schedule/employment)\")\n",
        "    fmt_counter = Counter()\n",
        "    for s in df[\"schedule\"].fillna(\"Не указано\"):\n",
        "        fmt_counter[s] += 1\n",
        "    print(\"Schedule distribution:\")\n",
        "    for k, v in fmt_counter.most_common():\n",
        "        print(f\"{k}: {v}\")\n",
        "    labels = list(fmt_counter.keys())\n",
        "    sizes = [fmt_counter[k] for k in labels]\n",
        "    plt.figure(figsize=(7,7))\n",
        "    plt.pie(sizes, labels=labels, autopct=\"%1.1f%%\")\n",
        "    plt.title(\"Распределение формата работы (schedule)\")\n",
        "    plt.savefig(\"schedule_pie.png\")\n",
        "    plt.show()\n",
        "    print(\"Saved schedule_pie.png\")\n",
        "\n",
        "    # --------------------\n",
        "    print(\"\\nИсследование спроса по районам города (если поле district/coords доступно)\")\n",
        "\n",
        "    district_counts = df[\"district\"].fillna(\"Не указан\").value_counts()\n",
        "    print(\"Top districts (by count):\")\n",
        "    print(district_counts.head(20))\n",
        "    district_counts.to_csv(\"district_counts.csv\")\n",
        "    print(\"Saved district_counts.csv\")\n",
        "\n",
        "    # coords_df = df[df[\"has_coords\"]]\n",
        "    # if len(coords_df) > 0:\n",
        "    #     print(f\"Found {len(coords_df)} vacancies with coordinates — строим карту.\")\n",
        "    #     mean_lat = np.mean([float(a[\"lat\"]) for a in coords_df[\"address\"]])\n",
        "    #     mean_lng = np.mean([float(a[\"lng\"]) for a in coords_df[\"address\"]])\n",
        "    #     m = folium.Map(location=[mean_lat, mean_lng], zoom_start=11)\n",
        "    #     for _, row in coords_df.iterrows():\n",
        "    #         addr = row[\"address\"]\n",
        "    #         lat = float(addr[\"lat\"])\n",
        "    #         lng = float(addr[\"lng\"])\n",
        "    #         popup = f\"{row['name']} — {row['employer']} — {row['salary_value'] or '—'}\"\n",
        "    #         folium.Marker([lat, lng], popup=popup).add_to(m)\n",
        "    #     m.save(\"vacancies_map.html\")\n",
        "    #     print(\"Saved vacancies_map.html (откройте в браузере)\")\n",
        "    # else:\n",
        "    #     print(\"Нет координат в данных для построения карты.\")\n",
        "\n",
        "    # return df\n",
        "\n",
        "if __name__ == \"__main__\":\n",
        "    df_result = main()"
      ],
      "metadata": {
        "colab": {
          "base_uri": "https://localhost:8080/",
          "height": 1000
        },
        "id": "f8rVgT509_YE",
        "outputId": "e3cb5672-877b-407b-b9ee-7e8927d232e9"
      },
      "execution_count": null,
      "outputs": [
        {
          "output_type": "stream",
          "name": "stdout",
          "text": [
            "1) Определение area_id для города: Краснодар\n",
            "Found area_id: 53\n",
            "\n",
            "2) Сбор вакансий (metadata) по поисковым терминам: ['Системный аналитик', 'Аналитик', 'System analytist']\n",
            "Search text: \"Системный аналитик\" OR Аналитик OR \"System analytist\"\n",
            "Fetched page 1/9  items on page: 100   total so far: 100\n",
            "Fetched page 2/9  items on page: 100   total so far: 200\n",
            "Fetched page 3/9  items on page: 100   total so far: 300\n",
            "Fetched page 4/9  items on page: 100   total so far: 400\n",
            "Fetched page 5/9  items on page: 100   total so far: 500\n",
            "Fetched page 6/9  items on page: 100   total so far: 600\n",
            "Fetched page 7/9  items on page: 100   total so far: 700\n",
            "Fetched page 8/9  items on page: 100   total so far: 800\n",
            "Fetched page 9/9  items on page: 71   total so far: 871\n",
            "Всего мета-записей получено: 871\n",
            "\n",
            "3) Удаление дубликатов по ID\n",
            "После удаления дубликатов: 871\n",
            "\n",
            "4) Получение детальных описаний вакансий (detail)\n"
          ]
        },
        {
          "output_type": "stream",
          "name": "stderr",
          "text": [
            "Fetching details:   1%|▏         | 11/871 [00:05<07:13,  1.98it/s]"
          ]
        },
        {
          "output_type": "stream",
          "name": "stdout",
          "text": [
            "Warning: vacancy 123300754 returned status 403\n",
            "Warning: vacancy 124508618 returned status 403\n",
            "Warning: vacancy 125502307 returned status 403\n"
          ]
        },
        {
          "output_type": "stream",
          "name": "stderr",
          "text": [
            "\rFetching details:   1%|▏         | 12/871 [00:06<07:12,  1.98it/s]"
          ]
        },
        {
          "output_type": "stream",
          "name": "stdout",
          "text": [
            "Warning: vacancy 125376973 returned status 403\n",
            "Warning: vacancy 121687131 returned status 403\n",
            "Warning: vacancy 123460043 returned status 403\n",
            "Warning: vacancy 125205606 returned status 403\n",
            "Warning: vacancy 125699575 returned status 403\n",
            "Warning: vacancy 125146202 returned status 403\n",
            "Warning: vacancy 125266198 returned status 403\n",
            "Warning: vacancy 124967708 returned status 403\n",
            "Warning: vacancy 125325468 returned status 403\n",
            "Warning: vacancy 124217655 returned status 403\n",
            "Warning: vacancy 124366972 returned status 403\n"
          ]
        },
        {
          "output_type": "stream",
          "name": "stderr",
          "text": [
            "\rFetching details:   1%|▏         | 13/871 [00:06<07:12,  1.99it/s]"
          ]
        },
        {
          "output_type": "stream",
          "name": "stdout",
          "text": [
            "Warning: vacancy 124083508 returned status 403\n",
            "Warning: vacancy 124535610 returned status 403\n",
            "Warning: vacancy 124923981 returned status 403\n",
            "Warning: vacancy 123097008 returned status 403\n",
            "Warning: vacancy 123717746 returned status 403\n",
            "Warning: vacancy 124379270 returned status 403\n",
            "Warning: vacancy 125396085 returned status 403\n",
            "Warning: vacancy 120276610 returned status 403\n",
            "Warning: vacancy 124994894 returned status 403\n",
            "Warning: vacancy 125121498 returned status 403\n",
            "Warning: vacancy 124471611 returned status 403\n"
          ]
        },
        {
          "output_type": "stream",
          "name": "stderr",
          "text": [
            "\rFetching details:   2%|▏         | 14/871 [00:07<07:11,  1.99it/s]"
          ]
        },
        {
          "output_type": "stream",
          "name": "stdout",
          "text": [
            "Warning: vacancy 123460089 returned status 403\n",
            "Warning: vacancy 124772990 returned status 403\n",
            "Warning: vacancy 124774569 returned status 403\n",
            "Warning: vacancy 124710954 returned status 403\n",
            "Warning: vacancy 125173623 returned status 403\n",
            "Warning: vacancy 118827005 returned status 403\n",
            "Warning: vacancy 123913362 returned status 403\n",
            "Warning: vacancy 125069573 returned status 403\n",
            "Warning: vacancy 124213297 returned status 403\n",
            "Warning: vacancy 124805717 returned status 403\n",
            "Warning: vacancy 123436947 returned status 403\n",
            "Warning: vacancy 125088592 returned status 403\n",
            "Warning: vacancy 124606970 returned status 403\n",
            "Warning: vacancy 123526672 returned status 403\n",
            "Warning: vacancy 125123585 returned status 403\n",
            "Warning: vacancy 124888186 returned status 403\n",
            "Warning: vacancy 113041966 returned status 403\n"
          ]
        },
        {
          "output_type": "stream",
          "name": "stderr",
          "text": [
            "\rFetching details:   2%|▏         | 15/871 [00:07<07:10,  1.99it/s]"
          ]
        },
        {
          "output_type": "stream",
          "name": "stdout",
          "text": [
            "Warning: vacancy 124871903 returned status 403\n",
            "Warning: vacancy 125157594 returned status 403\n",
            "Warning: vacancy 124780102 returned status 403\n",
            "Warning: vacancy 124810510 returned status 403\n",
            "Warning: vacancy 122154933 returned status 403\n",
            "Warning: vacancy 124874044 returned status 403\n",
            "Warning: vacancy 124867395 returned status 403\n",
            "Warning: vacancy 123800199 returned status 403\n",
            "Warning: vacancy 124702722 returned status 403\n",
            "Warning: vacancy 124773534 returned status 403\n",
            "Warning: vacancy 124207015 returned status 403\n"
          ]
        },
        {
          "output_type": "stream",
          "name": "stderr",
          "text": [
            "\rFetching details:   2%|▏         | 16/871 [00:08<07:09,  1.99it/s]"
          ]
        },
        {
          "output_type": "stream",
          "name": "stdout",
          "text": [
            "Warning: vacancy 122691014 returned status 403\n",
            "Warning: vacancy 123932044 returned status 403\n",
            "Warning: vacancy 122632791 returned status 403Warning: vacancy 124534083 returned status 403\n",
            "\n",
            "Warning: vacancy 124510393 returned status 403\n",
            "Warning: vacancy 124887672 returned status 403\n",
            "Warning: vacancy 125050539 returned status 403\n",
            "Warning: vacancy 125685644 returned status 403\n"
          ]
        },
        {
          "output_type": "stream",
          "name": "stderr",
          "text": [
            "\rFetching details:   2%|▏         | 17/871 [00:08<07:08,  1.99it/s]"
          ]
        },
        {
          "output_type": "stream",
          "name": "stdout",
          "text": [
            "Warning: vacancy 124536389 returned status 403\n",
            "Warning: vacancy 124724399 returned status 403\n",
            "Warning: vacancy 124888005 returned status 403\n",
            "Warning: vacancy 124761793 returned status 403\n",
            "Warning: vacancy 124509462 returned status 403\n",
            "Warning: vacancy 117756746 returned status 403\n",
            "Warning: vacancy 124308431 returned status 403\n",
            "Warning: vacancy 125686700 returned status 403\n",
            "Warning: vacancy 125557811 returned status 403\n",
            "Warning: vacancy 125557804 returned status 403\n"
          ]
        },
        {
          "output_type": "stream",
          "name": "stderr",
          "text": [
            "\rFetching details:   2%|▏         | 18/871 [00:09<07:07,  1.99it/s]"
          ]
        },
        {
          "output_type": "stream",
          "name": "stdout",
          "text": [
            "Warning: vacancy 125261279 returned status 403\n",
            "Warning: vacancy 122428368 returned status 403\n",
            "Warning: vacancy 125201175 returned status 403\n",
            "Warning: vacancy 119155785 returned status 403\n",
            "Warning: vacancy 124083770 returned status 403\n",
            "Warning: vacancy 125138089 returned status 403\n",
            "Warning: vacancy 124019420 returned status 403\n",
            "Warning: vacancy 125383965 returned status 403\n",
            "Warning: vacancy 124804980 returned status 403\n",
            "Warning: vacancy 125433734 returned status 403\n",
            "Warning: vacancy 125225911 returned status 403\n",
            "Warning: vacancy 125686483 returned status 403\n"
          ]
        },
        {
          "output_type": "stream",
          "name": "stderr",
          "text": [
            "\rFetching details:   2%|▏         | 19/871 [00:09<07:07,  1.99it/s]"
          ]
        },
        {
          "output_type": "stream",
          "name": "stdout",
          "text": [
            "Warning: vacancy 124907219 returned status 403\n",
            "Warning: vacancy 125138897 returned status 403\n",
            "Warning: vacancy 125699386 returned status 403\n",
            "Warning: vacancy 124216131 returned status 403\n",
            "Warning: vacancy 125697414 returned status 403\n",
            "Warning: vacancy 125004887 returned status 403\n",
            "Warning: vacancy 114559353 returned status 403\n",
            "Warning: vacancy 125468311 returned status 403\n",
            "Warning: vacancy 125687043 returned status 403\n",
            "Warning: vacancy 124116679 returned status 403\n",
            "Warning: vacancy 125451210 returned status 403\n",
            "Warning: vacancy 124809222 returned status 403\n",
            "Warning: vacancy 125672879 returned status 403\n",
            "Warning: vacancy 120025368 returned status 403\n"
          ]
        },
        {
          "output_type": "stream",
          "name": "stderr",
          "text": [
            "\rFetching details:   2%|▏         | 20/871 [00:10<07:07,  1.99it/s]"
          ]
        },
        {
          "output_type": "stream",
          "name": "stdout",
          "text": [
            "Warning: vacancy 124506902 returned status 403\n",
            "Warning: vacancy 125661067 returned status 403\n",
            "Warning: vacancy 125533356 returned status 403\n",
            "Warning: vacancy 125647144 returned status 403\n",
            "Warning: vacancy 122621468 returned status 403\n",
            "Warning: vacancy 123980616 returned status 403\n",
            "Warning: vacancy 114555444 returned status 403\n",
            "Warning: vacancy 125492428 returned status 403\n",
            "Warning: vacancy 125208218 returned status 403\n",
            "Warning: vacancy 119681719 returned status 403\n",
            "Warning: vacancy 121568238 returned status 403\n"
          ]
        },
        {
          "output_type": "stream",
          "name": "stderr",
          "text": [
            "\rFetching details:   2%|▏         | 21/871 [00:10<07:06,  1.99it/s]"
          ]
        },
        {
          "output_type": "stream",
          "name": "stdout",
          "text": [
            "Warning: vacancy 125648262 returned status 403\n",
            "Warning: vacancy 125314056 returned status 403\n",
            "Warning: vacancy 125092135 returned status 403\n",
            "Warning: vacancy 122055361 returned status 403\n",
            "Warning: vacancy 125400307 returned status 403\n",
            "Warning: vacancy 124267026 returned status 403\n",
            "Warning: vacancy 125080269 returned status 403\n",
            "Warning: vacancy 125665149 returned status 403\n",
            "Warning: vacancy 125440150 returned status 403\n",
            "Warning: vacancy 125564412 returned status 403\n",
            "Warning: vacancy 124548153 returned status 403\n"
          ]
        },
        {
          "output_type": "stream",
          "name": "stderr",
          "text": [
            "\rFetching details:   3%|▎         | 22/871 [00:11<07:05,  1.99it/s]"
          ]
        },
        {
          "output_type": "stream",
          "name": "stdout",
          "text": [
            "Warning: vacancy 114555333 returned status 403\n",
            "Warning: vacancy 124557988 returned status 403\n",
            "Warning: vacancy 125536198 returned status 403\n",
            "Warning: vacancy 125662527 returned status 403\n",
            "Warning: vacancy 114558792 returned status 403\n",
            "Warning: vacancy 124524854 returned status 403\n",
            "Warning: vacancy 124538961 returned status 403\n",
            "Warning: vacancy 125071380 returned status 403\n",
            "Warning: vacancy 125450743 returned status 403\n"
          ]
        },
        {
          "output_type": "stream",
          "name": "stderr",
          "text": [
            "\rFetching details:   3%|▎         | 23/871 [00:11<07:05,  1.99it/s]"
          ]
        },
        {
          "output_type": "stream",
          "name": "stdout",
          "text": [
            "Warning: vacancy 122209667 returned status 403\n",
            "Warning: vacancy 125640793 returned status 403\n",
            "Warning: vacancy 124892438 returned status 403\n",
            "Warning: vacancy 124931529 returned status 403\n",
            "Warning: vacancy 124784036 returned status 403\n",
            "Warning: vacancy 124550707 returned status 403\n",
            "Warning: vacancy 114558882 returned status 403\n",
            "Warning: vacancy 125668622 returned status 403\n",
            "Warning: vacancy 107937912 returned status 403\n",
            "Warning: vacancy 122580658 returned status 403\n"
          ]
        },
        {
          "output_type": "stream",
          "name": "stderr",
          "text": [
            "\rFetching details:   3%|▎         | 24/871 [00:12<07:04,  1.99it/s]"
          ]
        },
        {
          "output_type": "stream",
          "name": "stdout",
          "text": [
            "Warning: vacancy 118432944 returned status 403\n",
            "Warning: vacancy 125642440 returned status 403\n",
            "Warning: vacancy 122854830 returned status 403\n",
            "Warning: vacancy 124120402 returned status 403\n",
            "Warning: vacancy 125016778 returned status 403\n",
            "Warning: vacancy 124297114 returned status 403\n",
            "Warning: vacancy 125142893 returned status 403\n",
            "Warning: vacancy 124997777 returned status 403\n",
            "Warning: vacancy 125685110 returned status 403\n",
            "Warning: vacancy 125291806 returned status 403\n",
            "Warning: vacancy 124765843 returned status 403\n",
            "Warning: vacancy 125448013 returned status 403\n",
            "Warning: vacancy 124746274 returned status 403\n",
            "Warning: vacancy 125189831 returned status 403\n",
            "Warning: vacancy 125673481 returned status 403\n",
            "Warning: vacancy 119648897 returned status 403\n",
            "Warning: vacancy 125637002 returned status 403\n"
          ]
        },
        {
          "output_type": "stream",
          "name": "stderr",
          "text": [
            "\rFetching details:   3%|▎         | 25/871 [00:12<07:04,  2.00it/s]"
          ]
        },
        {
          "output_type": "stream",
          "name": "stdout",
          "text": [
            "Warning: vacancy 125067339 returned status 403\n",
            "Warning: vacancy 125038116 returned status 403\n",
            "Warning: vacancy 125009960 returned status 403\n",
            "Warning: vacancy 118701395 returned status 403\n",
            "Warning: vacancy 122624604 returned status 403\n",
            "Warning: vacancy 124700846 returned status 403\n",
            "Warning: vacancy 125665241 returned status 403\n",
            "Warning: vacancy 124756615 returned status 403\n",
            "Warning: vacancy 124492149 returned status 403\n",
            "Warning: vacancy 124929885 returned status 403\n"
          ]
        },
        {
          "output_type": "stream",
          "name": "stderr",
          "text": [
            "\rFetching details:   3%|▎         | 26/871 [00:13<07:04,  1.99it/s]"
          ]
        },
        {
          "output_type": "stream",
          "name": "stdout",
          "text": [
            "Warning: vacancy 125005993 returned status 403\n",
            "Warning: vacancy 125165609 returned status 403\n",
            "Warning: vacancy 125210439 returned status 403\n",
            "Warning: vacancy 125648817 returned status 403\n",
            "Warning: vacancy 122017841 returned status 403\n",
            "Warning: vacancy 122128470 returned status 403\n",
            "Warning: vacancy 124489141 returned status 403\n",
            "Warning: vacancy 125602052 returned status 403\n",
            "Warning: vacancy 125670071 returned status 403\n"
          ]
        },
        {
          "output_type": "stream",
          "name": "stderr",
          "text": [
            "\rFetching details:   3%|▎         | 27/871 [00:13<07:03,  1.99it/s]"
          ]
        },
        {
          "output_type": "stream",
          "name": "stdout",
          "text": [
            "Warning: vacancy 125432902 returned status 403\n",
            "Warning: vacancy 124785879 returned status 403\n",
            "Warning: vacancy 125219142 returned status 403\n",
            "Warning: vacancy 125668017 returned status 403\n",
            "Warning: vacancy 124725882 returned status 403\n",
            "Warning: vacancy 125672352 returned status 403\n",
            "Warning: vacancy 125245540 returned status 403\n",
            "Warning: vacancy 125612836 returned status 403\n",
            "Warning: vacancy 125390271 returned status 403\n",
            "Warning: vacancy 125673844 returned status 403\n",
            "Warning: vacancy 125440289 returned status 403\n"
          ]
        },
        {
          "output_type": "stream",
          "name": "stderr",
          "text": [
            "\rFetching details:   3%|▎         | 28/871 [00:14<07:02,  1.99it/s]"
          ]
        },
        {
          "output_type": "stream",
          "name": "stdout",
          "text": [
            "Warning: vacancy 125404717 returned status 403\n",
            "Warning: vacancy 125653630 returned status 403\n",
            "Warning: vacancy 124509748 returned status 403\n",
            "Warning: vacancy 125321229 returned status 403\n",
            "Warning: vacancy 125616001 returned status 403\n",
            "Warning: vacancy 125417564 returned status 403\n",
            "Warning: vacancy 125417563 returned status 403\n",
            "Warning: vacancy 125417565 returned status 403\n",
            "Warning: vacancy 120444284 returned status 403\n",
            "Warning: vacancy 124723009 returned status 403\n"
          ]
        },
        {
          "output_type": "stream",
          "name": "stderr",
          "text": [
            "\rFetching details:   3%|▎         | 29/871 [00:14<07:02,  1.99it/s]"
          ]
        },
        {
          "output_type": "stream",
          "name": "stdout",
          "text": [
            "Warning: vacancy 125600305 returned status 403\n",
            "Warning: vacancy 124900961 returned status 403\n",
            "Warning: vacancy 124697314 returned status 403\n",
            "Warning: vacancy 124996565 returned status 403\n",
            "Warning: vacancy 125667552 returned status 403\n",
            "Warning: vacancy 125638444 returned status 403\n",
            "Warning: vacancy 123896689 returned status 403\n",
            "Warning: vacancy 125548226 returned status 403\n",
            "Warning: vacancy 125609281 returned status 403\n",
            "Warning: vacancy 125190890 returned status 403\n",
            "Warning: vacancy 124708969 returned status 403\n",
            "Warning: vacancy 125618596 returned status 403\n",
            "Warning: vacancy 125431812 returned status 403\n"
          ]
        },
        {
          "output_type": "stream",
          "name": "stderr",
          "text": [
            "\rFetching details:   3%|▎         | 30/871 [00:15<07:01,  1.99it/s]"
          ]
        },
        {
          "output_type": "stream",
          "name": "stdout",
          "text": [
            "Warning: vacancy 125605961 returned status 403\n",
            "Warning: vacancy 125664978 returned status 403\n",
            "Warning: vacancy 124545012 returned status 403\n",
            "Warning: vacancy 125618749 returned status 403\n",
            "Warning: vacancy 124995497 returned status 403\n",
            "Warning: vacancy 124889994 returned status 403\n",
            "Warning: vacancy 125605792 returned status 403\n",
            "Warning: vacancy 125112796 returned status 403\n",
            "Warning: vacancy 125586263 returned status 403\n",
            "Warning: vacancy 107811532 returned status 403\n",
            "Warning: vacancy 124918804 returned status 403\n"
          ]
        },
        {
          "output_type": "stream",
          "name": "stderr",
          "text": [
            "\rFetching details:   4%|▎         | 31/871 [00:15<07:01,  1.99it/s]"
          ]
        },
        {
          "output_type": "stream",
          "name": "stdout",
          "text": [
            "Warning: vacancy 125524358 returned status 403\n",
            "Warning: vacancy 125581442 returned status 403\n",
            "Warning: vacancy 125651155 returned status 403\n",
            "Warning: vacancy 125653611 returned status 403\n",
            "Warning: vacancy 125586432 returned status 403\n",
            "Warning: vacancy 125005747 returned status 403\n",
            "Warning: vacancy 124707652 returned status 403\n",
            "Warning: vacancy 125396518 returned status 403\n",
            "Warning: vacancy 125544410 returned status 403\n"
          ]
        },
        {
          "output_type": "stream",
          "name": "stderr",
          "text": [
            "\rFetching details:   4%|▎         | 32/871 [00:16<07:00,  2.00it/s]"
          ]
        },
        {
          "output_type": "stream",
          "name": "stdout",
          "text": [
            "Warning: vacancy 125612076 returned status 403\n",
            "Warning: vacancy 124541593 returned status 403\n",
            "Warning: vacancy 124748166 returned status 403\n",
            "Warning: vacancy 124803220 returned status 403\n",
            "Warning: vacancy 125637646 returned status 403\n",
            "Warning: vacancy 125596297 returned status 403\n",
            "Warning: vacancy 119982863 returned status 403\n",
            "Warning: vacancy 125038183 returned status 403\n",
            "Warning: vacancy 125620278 returned status 403\n",
            "Warning: vacancy 125443923 returned status 403\n"
          ]
        },
        {
          "output_type": "stream",
          "name": "stderr",
          "text": [
            "\rFetching details:   4%|▍         | 33/871 [00:16<07:00,  2.00it/s]"
          ]
        },
        {
          "output_type": "stream",
          "name": "stdout",
          "text": [
            "Warning: vacancy 124757165 returned status 403\n",
            "Warning: vacancy 125637605 returned status 403\n",
            "Warning: vacancy 125543786 returned status 403\n",
            "Warning: vacancy 125666836 returned status 403\n",
            "Warning: vacancy 110403428 returned status 403\n",
            "Warning: vacancy 125658822 returned status 403\n",
            "Warning: vacancy 125487645 returned status 403\n",
            "Warning: vacancy 100479140 returned status 403\n",
            "Warning: vacancy 125360116 returned status 403\n",
            "Warning: vacancy 125337642 returned status 403\n",
            "Warning: vacancy 124985700 returned status 403\n",
            "Warning: vacancy 118758467 returned status 403\n",
            "Warning: vacancy 125173621 returned status 403\n",
            "Warning: vacancy 125537221 returned status 403\n",
            "Warning: vacancy 125554249 returned status 403\n",
            "Warning: vacancy 124690271 returned status 403\n"
          ]
        },
        {
          "output_type": "stream",
          "name": "stderr",
          "text": [
            "\rFetching details:   4%|▍         | 34/871 [00:17<06:59,  2.00it/s]"
          ]
        },
        {
          "output_type": "stream",
          "name": "stdout",
          "text": [
            "Warning: vacancy 125609371 returned status 403\n",
            "Warning: vacancy 124633902 returned status 403\n",
            "Warning: vacancy 104443042 returned status 403\n",
            "Warning: vacancy 122208226 returned status 403\n",
            "Warning: vacancy 124490662 returned status 403\n",
            "Warning: vacancy 125588579 returned status 403\n",
            "Warning: vacancy 124462212 returned status 403\n",
            "Warning: vacancy 125606295 returned status 403\n",
            "Warning: vacancy 124887030 returned status 403\n",
            "Warning: vacancy 125294339 returned status 403\n"
          ]
        },
        {
          "output_type": "stream",
          "name": "stderr",
          "text": [
            "\rFetching details:   4%|▍         | 35/871 [00:17<06:58,  2.00it/s]"
          ]
        },
        {
          "output_type": "stream",
          "name": "stdout",
          "text": [
            "Warning: vacancy 124661626 returned status 403\n",
            "Warning: vacancy 124887585 returned status 403\n",
            "Warning: vacancy 125539640 returned status 403\n",
            "Warning: vacancy 122970607 returned status 403\n",
            "Warning: vacancy 125142891 returned status 403\n",
            "Warning: vacancy 123315213 returned status 403\n",
            "Warning: vacancy 123207045 returned status 403\n",
            "Warning: vacancy 118182417 returned status 403\n",
            "Warning: vacancy 124233928 returned status 403\n",
            "Warning: vacancy 125587075 returned status 403\n"
          ]
        },
        {
          "output_type": "stream",
          "name": "stderr",
          "text": [
            "\rFetching details:   4%|▍         | 36/871 [00:18<06:58,  2.00it/s]"
          ]
        },
        {
          "output_type": "stream",
          "name": "stdout",
          "text": [
            "Warning: vacancy 125607256 returned status 403\n",
            "Warning: vacancy 124025533 returned status 403\n",
            "Warning: vacancy 125293269 returned status 403\n",
            "Warning: vacancy 121136468 returned status 403\n",
            "Warning: vacancy 125605683 returned status 403\n",
            "Warning: vacancy 123322215 returned status 403\n",
            "Warning: vacancy 125633130 returned status 403\n",
            "Warning: vacancy 125614714 returned status 403\n",
            "Warning: vacancy 101714219 returned status 403\n",
            "Warning: vacancy 125542918 returned status 403\n",
            "Warning: vacancy 125136974 returned status 403\n",
            "Warning: vacancy 125599289 returned status 403\n",
            "Warning: vacancy 125423214 returned status 403\n",
            "Warning: vacancy 122261843 returned status 403\n"
          ]
        },
        {
          "output_type": "stream",
          "name": "stderr",
          "text": [
            "\rFetching details:   4%|▍         | 37/871 [00:18<06:57,  2.00it/s]"
          ]
        },
        {
          "output_type": "stream",
          "name": "stdout",
          "text": [
            "Warning: vacancy 124892030 returned status 403\n",
            "Warning: vacancy 117159165 returned status 403\n",
            "Warning: vacancy 124641717 returned status 403\n",
            "Warning: vacancy 111038142 returned status 403\n"
          ]
        },
        {
          "output_type": "stream",
          "name": "stderr",
          "text": [
            "\rFetching details:   4%|▍         | 38/871 [00:19<06:57,  2.00it/s]"
          ]
        },
        {
          "output_type": "stream",
          "name": "stdout",
          "text": [
            "Warning: vacancy 124688601 returned status 403\n",
            "Warning: vacancy 119485143 returned status 403\n",
            "Warning: vacancy 125588706 returned status 403\n",
            "Warning: vacancy 124725752 returned status 403\n",
            "Warning: vacancy 124448340 returned status 403\n",
            "Warning: vacancy 124882460 returned status 403\n",
            "Warning: vacancy 123460881 returned status 403\n",
            "Warning: vacancy 125520596 returned status 403\n",
            "Warning: vacancy 125101959 returned status 403\n",
            "Warning: vacancy 125085278 returned status 403\n",
            "Warning: vacancy 125610567 returned status 403\n",
            "Warning: vacancy 125505432 returned status 403\n"
          ]
        },
        {
          "output_type": "stream",
          "name": "stderr",
          "text": [
            "\rFetching details:   4%|▍         | 39/871 [00:19<06:56,  2.00it/s]"
          ]
        },
        {
          "output_type": "stream",
          "name": "stdout",
          "text": [
            "Warning: vacancy 125607110 returned status 403\n",
            "Warning: vacancy 125590928 returned status 403\n",
            "Warning: vacancy 125520502 returned status 403\n",
            "Warning: vacancy 123617275 returned status 403\n",
            "Warning: vacancy 124477792 returned status 403\n",
            "Warning: vacancy 103782604 returned status 403\n",
            "Warning: vacancy 125334016 returned status 403\n",
            "Warning: vacancy 124638906 returned status 403\n",
            "Warning: vacancy 124483567 returned status 403\n",
            "Warning: vacancy 125327615 returned status 403\n",
            "Warning: vacancy 125586588 returned status 403\n",
            "Warning: vacancy 124833650 returned status 403\n",
            "Warning: vacancy 104905071 returned status 403\n",
            "Warning: vacancy 125292401 returned status 403\n",
            "Warning: vacancy 125490619 returned status 403\n",
            "Warning: vacancy 125121783 returned status 403\n"
          ]
        },
        {
          "output_type": "stream",
          "name": "stderr",
          "text": [
            "\rFetching details:   5%|▍         | 40/871 [00:20<06:56,  2.00it/s]"
          ]
        },
        {
          "output_type": "stream",
          "name": "stdout",
          "text": [
            "Warning: vacancy 124882137 returned status 403\n",
            "Warning: vacancy 124677916 returned status 403\n",
            "Warning: vacancy 125337921 returned status 403\n",
            "Warning: vacancy 125279047 returned status 403\n",
            "Warning: vacancy 125276831 returned status 403\n",
            "Warning: vacancy 125541948 returned status 403\n",
            "Warning: vacancy 125466238 returned status 403\n",
            "Warning: vacancy 124588938 returned status 403\n",
            "Warning: vacancy 125598730 returned status 403\n",
            "Warning: vacancy 125163918 returned status 403\n"
          ]
        },
        {
          "output_type": "stream",
          "name": "stderr",
          "text": [
            "\rFetching details:   5%|▍         | 41/871 [00:20<06:56,  1.99it/s]"
          ]
        },
        {
          "output_type": "stream",
          "name": "stdout",
          "text": [
            "Warning: vacancy 117503016 returned status 403\n",
            "Warning: vacancy 124855489 returned status 403\n",
            "Warning: vacancy 125492289 returned status 403\n",
            "Warning: vacancy 125332315 returned status 403\n",
            "Warning: vacancy 112991884 returned status 403\n",
            "Warning: vacancy 125464742 returned status 403\n",
            "Warning: vacancy 119607734 returned status 403\n",
            "Warning: vacancy 125553787 returned status 403\n",
            "Warning: vacancy 124704987 returned status 403\n",
            "Warning: vacancy 125526504 returned status 403\n"
          ]
        },
        {
          "output_type": "stream",
          "name": "stderr",
          "text": [
            "\rFetching details:   5%|▍         | 42/871 [00:21<06:55,  1.99it/s]"
          ]
        },
        {
          "output_type": "stream",
          "name": "stdout",
          "text": [
            "Warning: vacancy 125500294 returned status 403\n",
            "Warning: vacancy 121935395 returned status 403\n",
            "Warning: vacancy 121532128 returned status 403\n",
            "Warning: vacancy 125519218 returned status 403\n",
            "Warning: vacancy 125264810 returned status 403\n",
            "Warning: vacancy 125244888 returned status 403\n",
            "Warning: vacancy 122888446 returned status 403\n",
            "Warning: vacancy 125514537 returned status 403\n",
            "Warning: vacancy 125540413 returned status 403\n",
            "Warning: vacancy 124211071 returned status 403\n"
          ]
        },
        {
          "output_type": "stream",
          "name": "stderr",
          "text": [
            "\rFetching details:   5%|▍         | 43/871 [00:21<06:55,  1.99it/s]"
          ]
        },
        {
          "output_type": "stream",
          "name": "stdout",
          "text": [
            "Warning: vacancy 125532019 returned status 403\n",
            "Warning: vacancy 125500735 returned status 403\n",
            "Warning: vacancy 125005669 returned status 403\n",
            "Warning: vacancy 122778715 returned status 403\n",
            "Warning: vacancy 125509656 returned status 403\n",
            "Warning: vacancy 124579555 returned status 403\n",
            "Warning: vacancy 125488677 returned status 403\n",
            "Warning: vacancy 125466787 returned status 403\n",
            "Warning: vacancy 125502149 returned status 403\n",
            "Warning: vacancy 125553792 returned status 403\n",
            "Warning: vacancy 121031026 returned status 403\n",
            "Warning: vacancy 125504110 returned status 403\n",
            "Warning: vacancy 124923236 returned status 403\n"
          ]
        },
        {
          "output_type": "stream",
          "name": "stderr",
          "text": [
            "\rFetching details:   5%|▌         | 44/871 [00:22<06:54,  1.99it/s]"
          ]
        },
        {
          "output_type": "stream",
          "name": "stdout",
          "text": [
            "Warning: vacancy 124356864 returned status 403\n",
            "Warning: vacancy 125478046 returned status 403\n",
            "Warning: vacancy 123682006 returned status 403\n",
            "Warning: vacancy 125440999 returned status 403\n",
            "Warning: vacancy 125337606 returned status 403\n",
            "Warning: vacancy 125517784 returned status 403\n",
            "Warning: vacancy 125379601 returned status 403\n",
            "Warning: vacancy 124580721 returned status 403\n",
            "Warning: vacancy 125477692 returned status 403\n",
            "Warning: vacancy 125331390 returned status 403\n",
            "Warning: vacancy 124454505 returned status 403\n"
          ]
        },
        {
          "output_type": "stream",
          "name": "stderr",
          "text": [
            "\rFetching details:   5%|▌         | 45/871 [00:22<06:54,  1.99it/s]"
          ]
        },
        {
          "output_type": "stream",
          "name": "stdout",
          "text": [
            "Warning: vacancy 125558413 returned status 403\n",
            "Warning: vacancy 124019300 returned status 403\n",
            "Warning: vacancy 125467016 returned status 403\n",
            "Warning: vacancy 125470981 returned status 403\n",
            "Warning: vacancy 124563244 returned status 403\n",
            "Warning: vacancy 125280540 returned status 403\n",
            "Warning: vacancy 125454854 returned status 403\n",
            "Warning: vacancy 125553783 returned status 403\n",
            "Warning: vacancy 125495952 returned status 403\n",
            "Warning: vacancy 125372131 returned status 403\n"
          ]
        },
        {
          "output_type": "stream",
          "name": "stderr",
          "text": [
            "\rFetching details:   5%|▌         | 46/871 [00:23<06:53,  2.00it/s]"
          ]
        },
        {
          "output_type": "stream",
          "name": "stdout",
          "text": [
            "Warning: vacancy 124891286 returned status 403\n",
            "Warning: vacancy 122623821 returned status 403\n",
            "Warning: vacancy 124098715 returned status 403\n",
            "Warning: vacancy 125229676 returned status 403\n",
            "Warning: vacancy 125469449 returned status 403\n",
            "Warning: vacancy 123800090 returned status 403\n",
            "Warning: vacancy 125489598 returned status 403\n",
            "Warning: vacancy 121664069 returned status 403\n",
            "Warning: vacancy 125396304 returned status 403\n",
            "Warning: vacancy 121773542 returned status 403\n"
          ]
        },
        {
          "output_type": "stream",
          "name": "stderr",
          "text": [
            "\rFetching details:   5%|▌         | 47/871 [00:23<06:52,  2.00it/s]"
          ]
        },
        {
          "output_type": "stream",
          "name": "stdout",
          "text": [
            "Warning: vacancy 124373947 returned status 403\n",
            "Warning: vacancy 124138667 returned status 403\n",
            "Warning: vacancy 124670601 returned status 403\n",
            "Warning: vacancy 125435302 returned status 403\n",
            "Warning: vacancy 120967452 returned status 403\n",
            "Warning: vacancy 125407575 returned status 403\n",
            "Warning: vacancy 125380156 returned status 403\n",
            "Warning: vacancy 124042806 returned status 403\n",
            "Warning: vacancy 120867973 returned status 403\n"
          ]
        },
        {
          "output_type": "stream",
          "name": "stderr",
          "text": [
            "\rFetching details:   6%|▌         | 48/871 [00:24<06:52,  2.00it/s]"
          ]
        },
        {
          "output_type": "stream",
          "name": "stdout",
          "text": [
            "Warning: vacancy 125499637 returned status 403\n",
            "Warning: vacancy 125448740 returned status 403\n",
            "Warning: vacancy 125475382 returned status 403\n",
            "Warning: vacancy 125497245 returned status 403\n",
            "Warning: vacancy 125268882 returned status 403\n",
            "Warning: vacancy 125495859 returned status 403\n",
            "Warning: vacancy 125018968 returned status 403\n",
            "Warning: vacancy 125521502 returned status 403\n",
            "Warning: vacancy 125331005 returned status 403\n",
            "Warning: vacancy 125514778 returned status 403\n",
            "Warning: vacancy 125300802 returned status 403\n",
            "Warning: vacancy 125395962 returned status 403\n",
            "Warning: vacancy 125382976 returned status 403\n"
          ]
        },
        {
          "output_type": "stream",
          "name": "stderr",
          "text": [
            "\rFetching details:   6%|▌         | 49/871 [00:24<06:51,  2.00it/s]"
          ]
        },
        {
          "output_type": "stream",
          "name": "stdout",
          "text": [
            "Warning: vacancy 125223583 returned status 403\n",
            "Warning: vacancy 125528658 returned status 403\n",
            "Warning: vacancy 125287044 returned status 403\n",
            "Warning: vacancy 125380861 returned status 403\n",
            "Warning: vacancy 125431457 returned status 403\n",
            "Warning: vacancy 121696075 returned status 403\n",
            "Warning: vacancy 124475906 returned status 403\n",
            "Warning: vacancy 124557030 returned status 403\n",
            "Warning: vacancy 125389855 returned status 403\n"
          ]
        },
        {
          "output_type": "stream",
          "name": "stderr",
          "text": [
            "\rFetching details:   6%|▌         | 50/871 [00:25<06:51,  2.00it/s]"
          ]
        },
        {
          "output_type": "stream",
          "name": "stdout",
          "text": [
            "Warning: vacancy 123845880 returned status 403\n",
            "Warning: vacancy 123708527 returned status 403\n",
            "Warning: vacancy 125288928 returned status 403\n",
            "Warning: vacancy 125268884 returned status 403\n",
            "Warning: vacancy 125327599 returned status 403\n",
            "Warning: vacancy 125494941 returned status 403\n",
            "Warning: vacancy 121431168 returned status 403\n",
            "Warning: vacancy 125268880 returned status 403\n",
            "Warning: vacancy 124989823 returned status 403\n",
            "Warning: vacancy 125274654 returned status 403\n",
            "Warning: vacancy 125468929 returned status 403\n",
            "Warning: vacancy 125439489 returned status 403\n"
          ]
        },
        {
          "output_type": "stream",
          "name": "stderr",
          "text": [
            "\rFetching details:   6%|▌         | 51/871 [00:25<06:50,  2.00it/s]"
          ]
        },
        {
          "output_type": "stream",
          "name": "stdout",
          "text": [
            "Warning: vacancy 124007131 returned status 403\n",
            "Warning: vacancy 124152864 returned status 403\n",
            "Warning: vacancy 125425443 returned status 403\n",
            "Warning: vacancy 124632202 returned status 403\n",
            "Warning: vacancy 125371969 returned status 403\n",
            "Warning: vacancy 121566956 returned status 403\n",
            "Warning: vacancy 125475262 returned status 403\n",
            "Warning: vacancy 125390088 returned status 403\n",
            "Warning: vacancy 125444753 returned status 403\n",
            "Warning: vacancy 120835893 returned status 403\n",
            "Warning: vacancy 125089292 returned status 403\n",
            "Warning: vacancy 124013265 returned status 403\n",
            "Warning: vacancy 125162552 returned status 403\n",
            "Warning: vacancy 122217092 returned status 403\n",
            "Warning: vacancy 124757185 returned status 403\n"
          ]
        },
        {
          "output_type": "stream",
          "name": "stderr",
          "text": [
            "\rFetching details:   6%|▌         | 52/871 [00:26<06:50,  2.00it/s]"
          ]
        },
        {
          "output_type": "stream",
          "name": "stdout",
          "text": [
            "Warning: vacancy 125532620 returned status 403\n",
            "Warning: vacancy 125472109 returned status 403\n",
            "Warning: vacancy 125346884 returned status 403\n",
            "Warning: vacancy 125446385 returned status 403\n",
            "Warning: vacancy 125354058 returned status 403\n",
            "Warning: vacancy 125217632 returned status 403\n",
            "Warning: vacancy 125367953 returned status 403\n",
            "Warning: vacancy 125337290 returned status 403\n",
            "Warning: vacancy 125382012 returned status 403\n",
            "Warning: vacancy 123706516 returned status 403\n"
          ]
        },
        {
          "output_type": "stream",
          "name": "stderr",
          "text": [
            "\rFetching details:   6%|▌         | 53/871 [00:26<06:50,  1.99it/s]"
          ]
        },
        {
          "output_type": "stream",
          "name": "stdout",
          "text": [
            "Warning: vacancy 124373327 returned status 403\n",
            "Warning: vacancy 125373531 returned status 403\n",
            "Warning: vacancy 125011758 returned status 403\n",
            "Warning: vacancy 125434200 returned status 403\n",
            "Warning: vacancy 125401719 returned status 403\n",
            "Warning: vacancy 124662079 returned status 403\n",
            "Warning: vacancy 125472849 returned status 403\n",
            "Warning: vacancy 125448779 returned status 403\n"
          ]
        },
        {
          "output_type": "stream",
          "name": "stderr",
          "text": [
            "\rFetching details:   6%|▌         | 54/871 [00:27<06:49,  1.99it/s]"
          ]
        },
        {
          "output_type": "stream",
          "name": "stdout",
          "text": [
            "Warning: vacancy 123453061 returned status 403\n",
            "Warning: vacancy 125321103 returned status 403\n",
            "Warning: vacancy 120297655 returned status 403\n",
            "Warning: vacancy 125344237 returned status 403\n",
            "Warning: vacancy 123423329 returned status 403\n",
            "Warning: vacancy 125270255 returned status 403\n",
            "Warning: vacancy 124723138 returned status 403\n",
            "Warning: vacancy 124913304 returned status 403\n",
            "Warning: vacancy 125409657 returned status 403\n",
            "Warning: vacancy 124773125 returned status 403\n"
          ]
        },
        {
          "output_type": "stream",
          "name": "stderr",
          "text": [
            "\rFetching details:   6%|▋         | 55/871 [00:27<06:48,  2.00it/s]"
          ]
        },
        {
          "output_type": "stream",
          "name": "stdout",
          "text": [
            "Warning: vacancy 125311510 returned status 403\n",
            "Warning: vacancy 124329320 returned status 403\n",
            "Warning: vacancy 125413842 returned status 403\n",
            "Warning: vacancy 125161730 returned status 403\n",
            "Warning: vacancy 125151196 returned status 403\n",
            "Warning: vacancy 124985018 returned status 403\n",
            "Warning: vacancy 124852307 returned status 403\n",
            "Warning: vacancy 124814143 returned status 403\n",
            "Warning: vacancy 123075994 returned status 403\n",
            "Warning: vacancy 124759026 returned status 403\n",
            "Warning: vacancy 124305874 returned status 403\n"
          ]
        },
        {
          "output_type": "stream",
          "name": "stderr",
          "text": [
            "\rFetching details:   6%|▋         | 56/871 [00:28<06:48,  1.99it/s]"
          ]
        },
        {
          "output_type": "stream",
          "name": "stdout",
          "text": [
            "Warning: vacancy 124119236 returned status 403\n",
            "Warning: vacancy 125207688 returned status 403\n",
            "Warning: vacancy 122317662 returned status 403\n",
            "Warning: vacancy 122943892 returned status 403\n",
            "Warning: vacancy 124955479 returned status 403\n",
            "Warning: vacancy 125408316 returned status 403\n",
            "Warning: vacancy 121893155 returned status 403\n",
            "Warning: vacancy 124461341 returned status 403\n",
            "Warning: vacancy 125366757 returned status 403\n",
            "Warning: vacancy 125171162 returned status 403\n",
            "Warning: vacancy 125366749 returned status 403\n",
            "Warning: vacancy 125325271 returned status 403\n",
            "Warning: vacancy 125064386 returned status 403\n",
            "Warning: vacancy 125018009 returned status 403\n",
            "Warning: vacancy 123113631 returned status 403\n",
            "Warning: vacancy 123958893 returned status 403\n"
          ]
        },
        {
          "output_type": "stream",
          "name": "stderr",
          "text": [
            "\rFetching details:   7%|▋         | 57/871 [00:28<06:48,  1.99it/s]"
          ]
        },
        {
          "output_type": "stream",
          "name": "stdout",
          "text": [
            "Warning: vacancy 125015270 returned status 403\n",
            "Warning: vacancy 124824489 returned status 403\n",
            "Warning: vacancy 123704194 returned status 403\n",
            "Warning: vacancy 124949062 returned status 403\n",
            "Warning: vacancy 125269523 returned status 403\n",
            "Warning: vacancy 121183436 returned status 403\n"
          ]
        },
        {
          "output_type": "stream",
          "name": "stderr",
          "text": [
            "\rFetching details:   7%|▋         | 58/871 [00:29<06:47,  1.99it/s]"
          ]
        },
        {
          "output_type": "stream",
          "name": "stdout",
          "text": [
            "Warning: vacancy 125087919 returned status 403\n",
            "Warning: vacancy 125143266 returned status 403\n",
            "Warning: vacancy 125322762 returned status 403\n",
            "Warning: vacancy 123352809 returned status 403\n",
            "Warning: vacancy 125232793 returned status 403\n",
            "Warning: vacancy 122108967 returned status 403\n",
            "Warning: vacancy 124528207 returned status 403\n",
            "Warning: vacancy 125261536 returned status 403\n",
            "Warning: vacancy 124370189 returned status 403\n",
            "Warning: vacancy 125128307 returned status 403\n",
            "Warning: vacancy 83458163 returned status 403\n",
            "Warning: vacancy 124291800 returned status 403\n",
            "Warning: vacancy 125103375 returned status 403\n",
            "Warning: vacancy 125071301 returned status 403\n",
            "Warning: vacancy 123902614 returned status 403\n",
            "Warning: vacancy 125186512 returned status 403\n"
          ]
        },
        {
          "output_type": "stream",
          "name": "stderr",
          "text": [
            "\rFetching details:   7%|▋         | 59/871 [00:29<06:47,  1.99it/s]"
          ]
        },
        {
          "output_type": "stream",
          "name": "stdout",
          "text": [
            "Warning: vacancy 124248429 returned status 403\n",
            "Warning: vacancy 125054151 returned status 403\n",
            "Warning: vacancy 124937899 returned status 403\n",
            "Warning: vacancy 123916017 returned status 403\n",
            "Warning: vacancy 123759513 returned status 403\n",
            "Warning: vacancy 123874177 returned status 403\n",
            "Warning: vacancy 107182005 returned status 403\n",
            "Warning: vacancy 124892887 returned status 403\n",
            "Warning: vacancy 125263852 returned status 403\n",
            "Warning: vacancy 124361646 returned status 403\n",
            "Warning: vacancy 124875410 returned status 403\n"
          ]
        },
        {
          "output_type": "stream",
          "name": "stderr",
          "text": [
            "\rFetching details:   7%|▋         | 60/871 [00:30<06:46,  1.99it/s]"
          ]
        },
        {
          "output_type": "stream",
          "name": "stdout",
          "text": [
            "Warning: vacancy 124436934 returned status 403\n",
            "Warning: vacancy 123746197 returned status 403\n",
            "Warning: vacancy 124890917 returned status 403\n",
            "Warning: vacancy 123630994 returned status 403\n",
            "Warning: vacancy 125002043 returned status 403\n",
            "Warning: vacancy 123975822 returned status 403\n",
            "Warning: vacancy 125210022 returned status 403\n",
            "Warning: vacancy 124708214 returned status 403\n",
            "Warning: vacancy 123212185 returned status 403\n",
            "Warning: vacancy 120107375 returned status 403\n"
          ]
        },
        {
          "output_type": "stream",
          "name": "stderr",
          "text": [
            "\rFetching details:   7%|▋         | 61/871 [00:30<06:46,  1.99it/s]"
          ]
        },
        {
          "output_type": "stream",
          "name": "stdout",
          "text": [
            "Warning: vacancy 122776972 returned status 403\n",
            "Warning: vacancy 125003486 returned status 403\n",
            "Warning: vacancy 125096190 returned status 403\n",
            "Warning: vacancy 124979135 returned status 403\n",
            "Warning: vacancy 124933146 returned status 403\n",
            "Warning: vacancy 124606755 returned status 403\n",
            "Warning: vacancy 124478181 returned status 403\n",
            "Warning: vacancy 124826405 returned status 403\n",
            "Warning: vacancy 124840555 returned status 403\n",
            "Warning: vacancy 125061642 returned status 403\n",
            "Warning: vacancy 124424018 returned status 403\n"
          ]
        },
        {
          "output_type": "stream",
          "name": "stderr",
          "text": [
            "\rFetching details:   7%|▋         | 62/871 [00:31<06:45,  2.00it/s]"
          ]
        },
        {
          "output_type": "stream",
          "name": "stdout",
          "text": [
            "Warning: vacancy 124943817 returned status 403\n",
            "Warning: vacancy 125136122 returned status 403\n",
            "Warning: vacancy 124967706 returned status 403\n",
            "Warning: vacancy 117186027 returned status 403\n",
            "Warning: vacancy 125133479 returned status 403\n",
            "Warning: vacancy 125106373 returned status 403\n",
            "Warning: vacancy 120927397 returned status 403\n",
            "Warning: vacancy 125145357 returned status 403\n",
            "Warning: vacancy 125230265 returned status 403\n",
            "Warning: vacancy 125134183 returned status 403\n",
            "Warning: vacancy 124869272 returned status 403\n",
            "Warning: vacancy 124473337 returned status 403\n"
          ]
        },
        {
          "output_type": "stream",
          "name": "stderr",
          "text": [
            "\rFetching details:   7%|▋         | 63/871 [00:31<06:45,  1.99it/s]"
          ]
        },
        {
          "output_type": "stream",
          "name": "stdout",
          "text": [
            "Warning: vacancy 124473004 returned status 403\n",
            "Warning: vacancy 123527999 returned status 403\n",
            "Warning: vacancy 125175275 returned status 403\n",
            "Warning: vacancy 124853637 returned status 403\n",
            "Warning: vacancy 125208856 returned status 403\n",
            "Warning: vacancy 125103636 returned status 403\n",
            "Warning: vacancy 125287093 returned status 403\n",
            "Warning: vacancy 123803046 returned status 403\n",
            "Warning: vacancy 124013188 returned status 403\n",
            "Warning: vacancy 125069865 returned status 403\n",
            "Warning: vacancy 124967711 returned status 403\n"
          ]
        },
        {
          "output_type": "stream",
          "name": "stderr",
          "text": [
            "\rFetching details:   7%|▋         | 64/871 [00:32<06:45,  1.99it/s]"
          ]
        },
        {
          "output_type": "stream",
          "name": "stdout",
          "text": [
            "Warning: vacancy 124957819 returned status 403\n",
            "Warning: vacancy 124546775 returned status 403\n",
            "Warning: vacancy 125077789 returned status 403\n",
            "Warning: vacancy 125256371 returned status 403\n",
            "Warning: vacancy 122635362 returned status 403\n",
            "Warning: vacancy 124080814 returned status 403\n",
            "Warning: vacancy 124020201 returned status 403\n",
            "Warning: vacancy 124766817 returned status 403\n",
            "Warning: vacancy 124006451 returned status 403\n",
            "Warning: vacancy 108779322 returned status 403\n",
            "Warning: vacancy 125088224 returned status 403\n"
          ]
        },
        {
          "output_type": "stream",
          "name": "stderr",
          "text": [
            "\rFetching details:   7%|▋         | 65/871 [00:32<06:44,  1.99it/s]"
          ]
        },
        {
          "output_type": "stream",
          "name": "stdout",
          "text": [
            "Warning: vacancy 123670060 returned status 403\n",
            "Warning: vacancy 124912261 returned status 403\n",
            "Warning: vacancy 124692373 returned status 403\n",
            "Warning: vacancy 124806758 returned status 403\n",
            "Warning: vacancy 125017428 returned status 403\n",
            "Warning: vacancy 125246955 returned status 403\n",
            "Warning: vacancy 124953410 returned status 403\n",
            "Warning: vacancy 121730828 returned status 403\n",
            "Warning: vacancy 124924354 returned status 403\n",
            "Warning: vacancy 124513056 returned status 403\n",
            "Warning: vacancy 124875715 returned status 403\n",
            "Warning: vacancy 125024426 returned status 403\n"
          ]
        },
        {
          "output_type": "stream",
          "name": "stderr",
          "text": [
            "\rFetching details:   8%|▊         | 66/871 [00:33<06:43,  1.99it/s]"
          ]
        },
        {
          "output_type": "stream",
          "name": "stdout",
          "text": [
            "Warning: vacancy 125024983 returned status 403\n",
            "Warning: vacancy 125071512 returned status 403\n",
            "Warning: vacancy 125071394 returned status 403\n",
            "Warning: vacancy 124687135 returned status 403\n",
            "Warning: vacancy 123393373 returned status 403\n",
            "Warning: vacancy 124748505 returned status 403\n",
            "Warning: vacancy 125098064 returned status 403\n",
            "Warning: vacancy 124791371 returned status 403\n",
            "Warning: vacancy 124560671 returned status 403\n",
            "Warning: vacancy 125113604 returned status 403\n",
            "Warning: vacancy 125023894 returned status 403\n"
          ]
        },
        {
          "output_type": "stream",
          "name": "stderr",
          "text": [
            "\rFetching details:   8%|▊         | 67/871 [00:33<06:43,  1.99it/s]"
          ]
        },
        {
          "output_type": "stream",
          "name": "stdout",
          "text": [
            "Warning: vacancy 123615556 returned status 403\n",
            "Warning: vacancy 124764031 returned status 403\n",
            "Warning: vacancy 118896867 returned status 403\n",
            "Warning: vacancy 125265501 returned status 403\n",
            "Warning: vacancy 125024891 returned status 403\n",
            "Warning: vacancy 125089391 returned status 403\n",
            "Warning: vacancy 125084367 returned status 403\n",
            "Warning: vacancy 124441253 returned status 403\n",
            "Warning: vacancy 124552486 returned status 403\n",
            "Warning: vacancy 123751977 returned status 403\n"
          ]
        },
        {
          "output_type": "stream",
          "name": "stderr",
          "text": [
            "\rFetching details:   8%|▊         | 68/871 [00:34<06:42,  1.99it/s]"
          ]
        },
        {
          "output_type": "stream",
          "name": "stdout",
          "text": [
            "Warning: vacancy 124948428 returned status 403\n",
            "Warning: vacancy 125121844 returned status 403\n",
            "Warning: vacancy 124830294 returned status 403\n",
            "Warning: vacancy 124870018 returned status 403\n",
            "Warning: vacancy 124543642 returned status 403\n",
            "Warning: vacancy 125047040 returned status 403\n",
            "Warning: vacancy 124577388 returned status 403\n",
            "Warning: vacancy 124837203 returned status 403\n",
            "Warning: vacancy 121130622 returned status 403\n",
            "Warning: vacancy 125054195 returned status 403\n",
            "Warning: vacancy 121474689 returned status 403\n"
          ]
        },
        {
          "output_type": "stream",
          "name": "stderr",
          "text": [
            "\rFetching details:   8%|▊         | 69/871 [00:34<06:42,  1.99it/s]"
          ]
        },
        {
          "output_type": "stream",
          "name": "stdout",
          "text": [
            "Warning: vacancy 124590243 returned status 403\n",
            "Warning: vacancy 124887404 returned status 403\n",
            "Warning: vacancy 124863420 returned status 403\n",
            "Warning: vacancy 124791940 returned status 403\n",
            "Warning: vacancy 125069448 returned status 403\n",
            "Warning: vacancy 124893673 returned status 403\n",
            "Warning: vacancy 124900035 returned status 403\n",
            "Warning: vacancy 124992422 returned status 403\n",
            "Warning: vacancy 123496847 returned status 403\n",
            "Warning: vacancy 124817968 returned status 403\n",
            "Warning: vacancy 125139692 returned status 403\n"
          ]
        },
        {
          "output_type": "stream",
          "name": "stderr",
          "text": [
            "\rFetching details:   8%|▊         | 70/871 [00:35<06:41,  1.99it/s]"
          ]
        },
        {
          "output_type": "stream",
          "name": "stdout",
          "text": [
            "Warning: vacancy 123071827 returned status 403\n",
            "Warning: vacancy 124767827 returned status 403\n",
            "Warning: vacancy 124913472 returned status 403\n",
            "Warning: vacancy 124583137 returned status 403\n",
            "Warning: vacancy 125139496 returned status 403\n",
            "Warning: vacancy 124503880 returned status 403\n",
            "Warning: vacancy 125045874 returned status 403\n",
            "Warning: vacancy 124813399 returned status 403\n",
            "Warning: vacancy 125071326 returned status 403\n",
            "Warning: vacancy 123708420 returned status 403\n",
            "Warning: vacancy 124924498 returned status 403\n"
          ]
        },
        {
          "output_type": "stream",
          "name": "stderr",
          "text": [
            "\rFetching details:   8%|▊         | 71/871 [00:35<06:41,  1.99it/s]"
          ]
        },
        {
          "output_type": "stream",
          "name": "stdout",
          "text": [
            "Warning: vacancy 123946601 returned status 403\n",
            "Warning: vacancy 124757873 returned status 403\n",
            "Warning: vacancy 124709351 returned status 403\n",
            "Warning: vacancy 123557469 returned status 403\n",
            "Warning: vacancy 124821523 returned status 403\n",
            "Warning: vacancy 124859198 returned status 403\n",
            "Warning: vacancy 123669047 returned status 403\n",
            "Warning: vacancy 124888042 returned status 403\n",
            "Warning: vacancy 124889525 returned status 403\n",
            "Warning: vacancy 124727082 returned status 403\n",
            "Warning: vacancy 124379988 returned status 403\n"
          ]
        },
        {
          "output_type": "stream",
          "name": "stderr",
          "text": [
            "\rFetching details:   8%|▊         | 72/871 [00:36<06:40,  1.99it/s]"
          ]
        },
        {
          "output_type": "stream",
          "name": "stdout",
          "text": [
            "Warning: vacancy 124874447 returned status 403\n",
            "Warning: vacancy 124971659 returned status 403\n",
            "Warning: vacancy 124952345 returned status 403\n",
            "Warning: vacancy 123873415 returned status 403\n",
            "Warning: vacancy 124901020 returned status 403\n",
            "Warning: vacancy 124164640 returned status 403\n",
            "Warning: vacancy 122190923 returned status 403\n",
            "Warning: vacancy 117039364 returned status 403\n",
            "Warning: vacancy 124920078 returned status 403\n",
            "Warning: vacancy 124471692 returned status 403\n"
          ]
        },
        {
          "output_type": "stream",
          "name": "stderr",
          "text": [
            "\rFetching details:   8%|▊         | 73/871 [00:36<06:40,  1.99it/s]"
          ]
        },
        {
          "output_type": "stream",
          "name": "stdout",
          "text": [
            "Warning: vacancy 124725189 returned status 403\n",
            "Warning: vacancy 124771542 returned status 403\n",
            "Warning: vacancy 124542919 returned status 403\n",
            "Warning: vacancy 123020547 returned status 403\n",
            "Warning: vacancy 124691368 returned status 403\n",
            "Warning: vacancy 124865850 returned status 403\n",
            "Warning: vacancy 124537613 returned status 403\n",
            "Warning: vacancy 124687479 returned status 403\n",
            "Warning: vacancy 124884988 returned status 403\n",
            "Warning: vacancy 124742755 returned status 403\n"
          ]
        },
        {
          "output_type": "stream",
          "name": "stderr",
          "text": [
            "\rFetching details:   8%|▊         | 74/871 [00:37<06:39,  1.99it/s]"
          ]
        },
        {
          "output_type": "stream",
          "name": "stdout",
          "text": [
            "Warning: vacancy 123598658 returned status 403\n",
            "Warning: vacancy 124900517 returned status 403\n",
            "Warning: vacancy 123580227 returned status 403\n",
            "Warning: vacancy 124944802 returned status 403\n",
            "Warning: vacancy 124714895 returned status 403\n",
            "Warning: vacancy 124606981 returned status 403\n",
            "Warning: vacancy 124721908 returned status 403\n",
            "Warning: vacancy 124628643 returned status 403\n",
            "Warning: vacancy 124960383 returned status 403\n",
            "Warning: vacancy 124528623 returned status 403\n",
            "Warning: vacancy 123671794 returned status 403\n",
            "Warning: vacancy 124796027 returned status 403\n",
            "Warning: vacancy 124717649 returned status 403\n",
            "Warning: vacancy 124700868 returned status 403\n"
          ]
        },
        {
          "output_type": "stream",
          "name": "stderr",
          "text": [
            "\rFetching details:   9%|▊         | 75/871 [00:38<06:38,  2.00it/s]"
          ]
        },
        {
          "output_type": "stream",
          "name": "stdout",
          "text": [
            "Warning: vacancy 121632692 returned status 403\n",
            "Warning: vacancy 124606837 returned status 403\n",
            "Warning: vacancy 124479823 returned status 403\n",
            "Warning: vacancy 122785030 returned status 403\n",
            "Warning: vacancy 124534951 returned status 403\n",
            "Warning: vacancy 124584775 returned status 403\n",
            "Warning: vacancy 124479350 returned status 403\n",
            "Warning: vacancy 124089269 returned status 403\n",
            "Warning: vacancy 124477038 returned status 403\n"
          ]
        },
        {
          "output_type": "stream",
          "name": "stderr",
          "text": [
            "\rFetching details:   9%|▊         | 76/871 [00:38<06:38,  2.00it/s]"
          ]
        },
        {
          "output_type": "stream",
          "name": "stdout",
          "text": [
            "Warning: vacancy 124942852 returned status 403\n",
            "Warning: vacancy 123109274 returned status 403\n",
            "Warning: vacancy 124460549 returned status 403\n",
            "Warning: vacancy 124603226 returned status 403\n",
            "Warning: vacancy 124801078 returned status 403\n",
            "Warning: vacancy 124560005 returned status 403\n",
            "Warning: vacancy 124638279 returned status 403\n",
            "Warning: vacancy 124692184 returned status 403\n",
            "Warning: vacancy 124629428 returned status 403\n"
          ]
        },
        {
          "output_type": "stream",
          "name": "stderr",
          "text": [
            "\rFetching details:   9%|▉         | 77/871 [00:39<06:37,  2.00it/s]"
          ]
        },
        {
          "output_type": "stream",
          "name": "stdout",
          "text": [
            "Warning: vacancy 124602703 returned status 403\n",
            "Warning: vacancy 124393310 returned status 403\n",
            "Warning: vacancy 123446800 returned status 403\n",
            "Warning: vacancy 123517823 returned status 403\n",
            "Warning: vacancy 124868431 returned status 403\n",
            "Warning: vacancy 123362599 returned status 403\n",
            "Warning: vacancy 124490657 returned status 403\n",
            "Warning: vacancy 124705261 returned status 403\n",
            "Warning: vacancy 124532193 returned status 403\n",
            "Warning: vacancy 124543399 returned status 403\n",
            "Warning: vacancy 124333212 returned status 403\n"
          ]
        },
        {
          "output_type": "stream",
          "name": "stderr",
          "text": [
            "\rFetching details:   9%|▉         | 78/871 [00:39<06:37,  2.00it/s]"
          ]
        },
        {
          "output_type": "stream",
          "name": "stdout",
          "text": [
            "Warning: vacancy 124526663 returned status 403\n",
            "Warning: vacancy 124891123 returned status 403\n",
            "Warning: vacancy 124485905 returned status 403\n",
            "Warning: vacancy 124625067 returned status 403\n",
            "Warning: vacancy 123640339 returned status 403\n",
            "Warning: vacancy 120621965 returned status 403\n",
            "Warning: vacancy 124385732 returned status 403\n",
            "Warning: vacancy 124597797 returned status 403\n",
            "Warning: vacancy 124726619 returned status 403\n",
            "Warning: vacancy 124648407 returned status 403\n",
            "Warning: vacancy 124608524 returned status 403\n",
            "Warning: vacancy 124583258 returned status 403\n"
          ]
        },
        {
          "output_type": "stream",
          "name": "stderr",
          "text": [
            "\rFetching details:   9%|▉         | 79/871 [00:40<06:36,  2.00it/s]"
          ]
        },
        {
          "output_type": "stream",
          "name": "stdout",
          "text": [
            "Warning: vacancy 124450869 returned status 403\n",
            "Warning: vacancy 124576850 returned status 403\n",
            "Warning: vacancy 124579096 returned status 403\n",
            "Warning: vacancy 124715177 returned status 403\n"
          ]
        },
        {
          "output_type": "stream",
          "name": "stderr",
          "text": [
            "\rFetching details:   9%|▉         | 80/871 [00:40<06:36,  2.00it/s]"
          ]
        },
        {
          "output_type": "stream",
          "name": "stdout",
          "text": [
            "Warning: vacancy 124686769 returned status 403\n"
          ]
        },
        {
          "output_type": "stream",
          "name": "stderr",
          "text": [
            "Fetching details: 100%|██████████| 871/871 [07:16<00:00,  1.99it/s]\n"
          ]
        },
        {
          "output_type": "stream",
          "name": "stdout",
          "text": [
            "Получено детальных описаний: 119\n",
            "\n",
            "5) Формирование DataFrame для анализа\n",
            "DataFrame shape: (119, 14)\n",
            "Saved hh_vacancies_details.csv\n",
            "\n",
            "Вопрос 1: Сколько сейчас доступно вакансий по запросу?\n",
            "Ответ: 119 вакансий (собрано и сохранено в CSV)\n",
            "\n",
            "Вопрос 2: Часто запрашиваемые навыки:\n",
            "1. аналитическое мышление — 23\n",
            "2. работа с большим объемом информации — 16\n",
            "3. бизнес-анализ — 16\n",
            "4. ms excel — 14\n",
            "5. sql — 13\n",
            "6. анализ данных — 12\n",
            "7. системный анализ — 12\n",
            "8. постановка задач разработчикам — 12\n",
            "9. разработка технических заданий — 11\n",
            "10. работа с базами данных — 9\n",
            "11. анализ бизнес-процессов — 9\n",
            "12. 1с: бухгалтерия — 9\n",
            "13. аналитика — 8\n",
            "14. оптимизация бизнес-процессов — 8\n",
            "15. моделирование бизнес-процессов — 8\n",
            "16. 1с — 8\n",
            "17. описание бизнес-процессов — 8\n",
            "18. ms sql — 7\n",
            "19. сбор и анализ информации — 6\n",
            "20. bpmn — 6\n",
            "Saved hh_skills_frequency.csv\n",
            "\n",
            "Вопрос 3: Строим гистограмму зарплат (грубая оценка по полю salary)\n"
          ]
        },
        {
          "output_type": "display_data",
          "data": {
            "text/plain": [
              "<Figure size 1000x600 with 1 Axes>"
            ],
            "image/png": "[encoded data removed]"
          },
          "metadata": {}
        },
        {
          "output_type": "stream",
          "name": "stdout",
          "text": [
            "Saved salary_histogram.png\n",
            "\n",
            "Вопрос 4: Преимущественный формат работы (schedule/employment)\n",
            "Schedule distribution:\n",
            "Полный день: 76\n",
            "Удаленная работа: 43\n"
          ]
        },
        {
          "output_type": "display_data",
          "data": {
            "text/plain": [
              "<Figure size 700x700 with 1 Axes>"
            ],
            "image/png": "[encoded data removed]"
          },
          "metadata": {}
        },
        {
          "output_type": "stream",
          "name": "stdout",
          "text": [
            "Saved schedule_pie.png\n",
            "\n",
            "Исследование спроса по районам города (если поле district/coords доступно)\n",
            "Top districts (by count):\n",
            "district\n",
            "Не указан                              98\n",
            "микрорайон Центральный                 10\n",
            "Школьный микрорайон                     4\n",
            "Центральный микрорайон                  3\n",
            "микрорайон Любимово                     1\n",
            "Фестивальный микрорайон                 1\n",
            "Елабужский район                        1\n",
            "микрорайон имени Петра Метальникова     1\n",
            "Name: count, dtype: int64\n",
            "Saved district_counts.csv\n"
          ]
        }
      ]
    }
  ]
}